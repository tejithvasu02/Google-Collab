{
  "nbformat": 4,
  "nbformat_minor": 0,
  "metadata": {
    "colab": {
      "provenance": [],
      "authorship_tag": "ABX9TyM1nBvdJvBUTKM0T+v58lTA",
      "include_colab_link": true
    },
    "kernelspec": {
      "name": "python3",
      "display_name": "Python 3"
    },
    "language_info": {
      "name": "python"
    }
  },
  "cells": [
    {
      "cell_type": "markdown",
      "metadata": {
        "id": "view-in-github",
        "colab_type": "text"
      },
      "source": [
        "<a href=\"https://colab.research.google.com/github/tejithvasu02/Google-Collab/blob/main/SE_Ass2.ipynb\" target=\"_parent\"><img src=\"https://colab.research.google.com/assets/colab-badge.svg\" alt=\"Open In Colab\"/></a>"
      ]
    },
    {
      "cell_type": "code",
      "execution_count": 1,
      "metadata": {
        "colab": {
          "base_uri": "https://localhost:8080/"
        },
        "id": "ShK6iyCDkHEa",
        "outputId": "ee6a5b66-881c-490e-c013-e7821810b5aa"
      },
      "outputs": [
        {
          "output_type": "stream",
          "name": "stdout",
          "text": [
            "The sum of 10 and 20 is: 30\n"
          ]
        }
      ],
      "source": [
        "x = 10\n",
        "y = 20\n",
        "result = x + y\n",
        "print(f\"The sum of {x} and {y} is: {result}\")"
      ]
    },
    {
      "cell_type": "code",
      "source": [
        "with open(\"multiple_inputs.txt\", \"w\") as f:\n",
        "  f.write(\"3\\n5\\n7\")\n",
        "try:\n",
        "    with open(\"multiple_inputs.txt\", \"r\") as f:\n",
        "      numbers = [int (line.strip()) for line in f.readlines()]\n",
        "      result = sum(numbers)\n",
        "      print(f\"Multiple Inputs Read from File: {numbers}, Sum = {result})\")\n",
        "except FileNotFoundError:\n",
        "        print(\"File not found!\")\n",
        "except ValueError:\n",
        "          print(\"Error in reading or converting the inputs!\")"
      ],
      "metadata": {
        "colab": {
          "base_uri": "https://localhost:8080/"
        },
        "id": "KuY_9_1Vrp6X",
        "outputId": "e10dbf69-92b6-4cfd-c124-5e73e4a26e39"
      },
      "execution_count": 2,
      "outputs": [
        {
          "output_type": "stream",
          "name": "stdout",
          "text": [
            "Multiple Inputs Read from File: [3, 5, 7], Sum = 15)\n"
          ]
        }
      ]
    },
    {
      "cell_type": "code",
      "source": [
        "with open(\"single_input.txt\", \"w\") as f:\n",
        "  f.write(\"42\")\n",
        "try:\n",
        "    with open(\"single_input.txt\", \"r\") as f:\n",
        "      num = int(f.read().strip())\n",
        "      result = num * 2\n",
        "      print(f\"Single Input Read from File: {num} * 2 = {result}\")\n",
        "except FileNotFoundError:\n",
        "        print(\"File not found!\")\n",
        "except ValueError:\n",
        "        print(\"Error in reading or converting the input!\")"
      ],
      "metadata": {
        "colab": {
          "base_uri": "https://localhost:8080/"
        },
        "id": "X8x5vepvr7ym",
        "outputId": "5ab399ac-3f46-4ebf-bb40-eb32e7b00c60"
      },
      "execution_count": 4,
      "outputs": [
        {
          "output_type": "stream",
          "name": "stdout",
          "text": [
            "Single Input Read from File: 42 * 2 = 84\n"
          ]
        }
      ]
    },
    {
      "cell_type": "code",
      "source": [
        "def is_palindrome_number(num):\n",
        "    num_str = str(num)\n",
        "    return num_str == num_str[::-1]\n",
        "\n",
        "num = 121\n",
        "\n",
        "if is_palindrome_number(num):\n",
        "    print(f\"{num} is a palindrome number.\")\n",
        "else:\n",
        "    print(f\"{num} is not a palindrome number.\")"
      ],
      "metadata": {
        "colab": {
          "base_uri": "https://localhost:8080/"
        },
        "id": "zywVWQFxsBJ_",
        "outputId": "d81f00ae-e77b-4bc6-e44d-4d2e6737c499"
      },
      "execution_count": 5,
      "outputs": [
        {
          "output_type": "stream",
          "name": "stdout",
          "text": [
            "121 is a palindrome number.\n"
          ]
        }
      ]
    },
    {
      "cell_type": "code",
      "source": [
        "def is_prime(num):\n",
        "    if num <= 1:\n",
        "        return False\n",
        "    for i in range(2, int(num**0.5) + 1):\n",
        "        if num % i == 0:\n",
        "            return False\n",
        "    return True\n",
        "\n",
        "num = 29\n",
        "\n",
        "if is_prime(num):\n",
        "    print(f\"{num} is a prime number.\")\n",
        "else:\n",
        "    print(f\"{num} is not a prime number.\")\n"
      ],
      "metadata": {
        "colab": {
          "base_uri": "https://localhost:8080/"
        },
        "id": "pzC2k1ngtc-X",
        "outputId": "85d93426-02b0-4eaf-dcaf-d7ffb07629c7"
      },
      "execution_count": 6,
      "outputs": [
        {
          "output_type": "stream",
          "name": "stdout",
          "text": [
            "29 is a prime number.\n"
          ]
        }
      ]
    },
    {
      "cell_type": "code",
      "source": [
        "numbers = [10, 25, 35, 50, 7]\n",
        "\n",
        "greatest_number = max(numbers)\n",
        "\n",
        "print(f\"The greatest number is: {greatest_number}\")\n"
      ],
      "metadata": {
        "colab": {
          "base_uri": "https://localhost:8080/"
        },
        "id": "zsm--8WLtqkd",
        "outputId": "cc60a52f-c1e1-489d-a2d6-55283abd23d4"
      },
      "execution_count": 7,
      "outputs": [
        {
          "output_type": "stream",
          "name": "stdout",
          "text": [
            "The greatest number is: 50\n"
          ]
        }
      ]
    },
    {
      "cell_type": "code",
      "source": [
        "num = 7\n",
        "\n",
        "if num % 2 == 0:\n",
        "    print(f\"{num} is an even number.\")\n",
        "else:\n",
        "    print(f\"{num} is an odd number.\")\n"
      ],
      "metadata": {
        "colab": {
          "base_uri": "https://localhost:8080/"
        },
        "id": "HP0r0HdNtwCt",
        "outputId": "34305a1b-9241-4f6e-e260-b246c916fb0f"
      },
      "execution_count": 8,
      "outputs": [
        {
          "output_type": "stream",
          "name": "stdout",
          "text": [
            "7 is an odd number.\n"
          ]
        }
      ]
    },
    {
      "cell_type": "code",
      "source": [
        "n = 5\n",
        "a, b = 0, 1\n",
        "fibonacci_sequence = []\n",
        "\n",
        "for _ in range(n):\n",
        "    fibonacci_sequence.append(a)\n",
        "    a, b = b, a + b\n",
        "\n",
        "print(\"The first\", n, \"numbers of the Fibonacci sequence:\", fibonacci_sequence)\n"
      ],
      "metadata": {
        "colab": {
          "base_uri": "https://localhost:8080/"
        },
        "id": "QIASGJuduUFN",
        "outputId": "2d173aaa-6edc-4bc4-d658-c83fb7e88dbf"
      },
      "execution_count": 9,
      "outputs": [
        {
          "output_type": "stream",
          "name": "stdout",
          "text": [
            "The first 5 numbers of the Fibonacci sequence: [0, 1, 1, 2, 3]\n"
          ]
        }
      ]
    },
    {
      "cell_type": "code",
      "source": [
        "num = 5\n",
        "\n",
        "factorial = 1\n",
        "for i in range(1, num + 1):\n",
        "    factorial *= i\n",
        "\n",
        "print(f\"The factorial of {num} is {factorial}.\")\n"
      ],
      "metadata": {
        "colab": {
          "base_uri": "https://localhost:8080/"
        },
        "id": "3n8iPLQzuW0l",
        "outputId": "3c3753c0-25ad-45aa-dd4e-ad010d9309b0"
      },
      "execution_count": 10,
      "outputs": [
        {
          "output_type": "stream",
          "name": "stdout",
          "text": [
            "The factorial of 5 is 120.\n"
          ]
        }
      ]
    },
    {
      "cell_type": "code",
      "source": [
        "num = 153\n",
        "\n",
        "num_str = str(num)\n",
        "num_digits = len(num_str)\n",
        "armstrong_sum = sum(int(digit) ** num_digits for digit in num_str)\n",
        "\n",
        "if armstrong_sum == num:\n",
        "    print(f\"{num} is an Armstrong number.\")\n",
        "else:\n",
        "    print(f\"{num} is not an Armstrong number.\")\n"
      ],
      "metadata": {
        "colab": {
          "base_uri": "https://localhost:8080/"
        },
        "id": "AzHbuMiUueSd",
        "outputId": "29bbf74a-e054-44b1-d526-7332ebf94da3"
      },
      "execution_count": 11,
      "outputs": [
        {
          "output_type": "stream",
          "name": "stdout",
          "text": [
            "153 is an Armstrong number.\n"
          ]
        }
      ]
    },
    {
      "cell_type": "code",
      "source": [
        "text = \"hello\"\n",
        "reversed_text = text[::-1]\n",
        "\n",
        "print(f\"The reversed string is '{reversed_text}'.\")\n"
      ],
      "metadata": {
        "colab": {
          "base_uri": "https://localhost:8080/"
        },
        "id": "h1gm_7lduhKk",
        "outputId": "278235ee-40f8-48b3-f1fb-bba8c4009fab"
      },
      "execution_count": 12,
      "outputs": [
        {
          "output_type": "stream",
          "name": "stdout",
          "text": [
            "The reversed string is 'olleh'.\n"
          ]
        }
      ]
    }
  ]
}